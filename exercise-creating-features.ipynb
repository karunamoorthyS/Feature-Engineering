{
 "cells": [
  {
   "cell_type": "markdown",
   "id": "e23bb1c5",
   "metadata": {
    "papermill": {
     "duration": 0.016841,
     "end_time": "2022-01-31T05:17:13.243756",
     "exception": false,
     "start_time": "2022-01-31T05:17:13.226915",
     "status": "completed"
    },
    "tags": []
   },
   "source": [
    "**This notebook is an exercise in the [Feature Engineering](https://www.kaggle.com/learn/feature-engineering) course.  You can reference the tutorial at [this link](https://www.kaggle.com/ryanholbrook/creating-features).**\n",
    "\n",
    "---\n"
   ]
  },
  {
   "cell_type": "markdown",
   "id": "0d995595",
   "metadata": {
    "papermill": {
     "duration": 0.014886,
     "end_time": "2022-01-31T05:17:13.274369",
     "exception": false,
     "start_time": "2022-01-31T05:17:13.259483",
     "status": "completed"
    },
    "tags": []
   },
   "source": [
    "# Introduction #\n",
    "\n",
    "In this exercise you'll start developing the features you identified in Exercise 2 as having the most potential. As you work through this exercise, you might take a moment to look at the data documentation again and consider whether the features we're creating make sense from a real-world perspective, and whether there are any useful combinations that stand out to you.\n",
    "\n",
    "Run this cell to set everything up!"
   ]
  },
  {
   "cell_type": "code",
   "execution_count": 1,
   "id": "5b4654ab",
   "metadata": {
    "execution": {
     "iopub.execute_input": "2022-01-31T05:17:13.320929Z",
     "iopub.status.busy": "2022-01-31T05:17:13.320300Z",
     "iopub.status.idle": "2022-01-31T05:17:14.555066Z",
     "shell.execute_reply": "2022-01-31T05:17:14.555622Z",
     "shell.execute_reply.started": "2022-01-31T05:05:56.257619Z"
    },
    "papermill": {
     "duration": 1.26607,
     "end_time": "2022-01-31T05:17:14.555924",
     "exception": false,
     "start_time": "2022-01-31T05:17:13.289854",
     "status": "completed"
    },
    "tags": []
   },
   "outputs": [],
   "source": [
    "# Setup feedback system\n",
    "from learntools.core import binder\n",
    "binder.bind(globals())\n",
    "from learntools.feature_engineering_new.ex3 import *\n",
    "\n",
    "import numpy as np\n",
    "import pandas as pd\n",
    "from sklearn.model_selection import cross_val_score\n",
    "from xgboost import XGBRegressor\n",
    "\n",
    "\n",
    "def score_dataset(X, y, model=XGBRegressor()):\n",
    "    # Label encoding for categoricals\n",
    "    for colname in X.select_dtypes([\"category\", \"object\"]):\n",
    "        X[colname], _ = X[colname].factorize()\n",
    "    # Metric for Housing competition is RMSLE (Root Mean Squared Log Error)\n",
    "    score = cross_val_score(\n",
    "        model, X, y, cv=5, scoring=\"neg_mean_squared_log_error\",\n",
    "    )\n",
    "    score = -1 * score.mean()\n",
    "    score = np.sqrt(score)\n",
    "    return score\n",
    "\n",
    "\n",
    "# Prepare data\n",
    "df = pd.read_csv(\"../input/fe-course-data/ames.csv\")\n",
    "X = df.copy()\n",
    "y = X.pop(\"SalePrice\")"
   ]
  },
  {
   "cell_type": "markdown",
   "id": "fddc9fe3",
   "metadata": {
    "papermill": {
     "duration": 0.015597,
     "end_time": "2022-01-31T05:17:14.587955",
     "exception": false,
     "start_time": "2022-01-31T05:17:14.572358",
     "status": "completed"
    },
    "tags": []
   },
   "source": [
    "-------------------------------------------------------------------------------\n",
    "\n",
    "Let's start with a few mathematical combinations. We'll focus on features describing areas -- having the same units (square-feet) makes it easy to combine them in sensible ways. Since we're using XGBoost (a tree-based model), we'll focus on ratios and sums.\n",
    "\n",
    "# 1) Create Mathematical Transforms\n",
    "\n",
    "Create the following features:\n",
    "\n",
    "- `LivLotRatio`: the ratio of `GrLivArea` to `LotArea`\n",
    "- `Spaciousness`: the sum of `FirstFlrSF` and `SecondFlrSF` divided by `TotRmsAbvGrd`\n",
    "- `TotalOutsideSF`: the sum of `WoodDeckSF`, `OpenPorchSF`, `EnclosedPorch`, `Threeseasonporch`, and `ScreenPorch`"
   ]
  },
  {
   "cell_type": "code",
   "execution_count": 2,
   "id": "517d7cab",
   "metadata": {
    "execution": {
     "iopub.execute_input": "2022-01-31T05:17:14.629647Z",
     "iopub.status.busy": "2022-01-31T05:17:14.629007Z",
     "iopub.status.idle": "2022-01-31T05:17:14.644593Z",
     "shell.execute_reply": "2022-01-31T05:17:14.644060Z",
     "shell.execute_reply.started": "2022-01-31T05:13:37.988136Z"
    },
    "lines_to_next_cell": 0,
    "papermill": {
     "duration": 0.040967,
     "end_time": "2022-01-31T05:17:14.644723",
     "exception": false,
     "start_time": "2022-01-31T05:17:14.603756",
     "status": "completed"
    },
    "tags": []
   },
   "outputs": [
    {
     "data": {
      "application/javascript": [
       "parent.postMessage({\"jupyterEvent\": \"custom.exercise_interaction\", \"data\": {\"outcomeType\": 1, \"valueTowardsCompletion\": 0.2, \"interactionType\": 1, \"questionType\": 2, \"questionId\": \"1_Q1\", \"learnToolsVersion\": \"0.3.4\", \"failureMessage\": \"\", \"exceptionClass\": \"\", \"trace\": \"\"}}, \"*\")"
      ],
      "text/plain": [
       "<IPython.core.display.Javascript object>"
      ]
     },
     "metadata": {},
     "output_type": "display_data"
    },
    {
     "data": {
      "text/markdown": [
       "<span style=\"color:#33cc33\">Correct</span>"
      ],
      "text/plain": [
       "Correct"
      ]
     },
     "metadata": {},
     "output_type": "display_data"
    }
   ],
   "source": [
    "# YOUR CODE HERE\n",
    "X_1 = pd.DataFrame()  # dataframe to hold new features\n",
    "\n",
    "X_1[\"LivLotRatio\"] = df.GrLivArea / df.LotArea\n",
    "X_1[\"Spaciousness\"] = (df.FirstFlrSF + df.SecondFlrSF) / df.TotRmsAbvGrd\n",
    "X_1[\"TotalOutsideSF\"] = df.WoodDeckSF + df.OpenPorchSF + df.EnclosedPorch + df.Threeseasonporch + df.ScreenPorch\n",
    "\n",
    "\n",
    "# Check your answer\n",
    "q_1.check()"
   ]
  },
  {
   "cell_type": "code",
   "execution_count": 3,
   "id": "07c9ace4",
   "metadata": {
    "execution": {
     "iopub.execute_input": "2022-01-31T05:17:14.681856Z",
     "iopub.status.busy": "2022-01-31T05:17:14.681259Z",
     "iopub.status.idle": "2022-01-31T05:17:14.683783Z",
     "shell.execute_reply": "2022-01-31T05:17:14.684342Z",
     "shell.execute_reply.started": "2022-01-31T05:13:49.737916Z"
    },
    "lines_to_next_cell": 0,
    "papermill": {
     "duration": 0.022253,
     "end_time": "2022-01-31T05:17:14.684501",
     "exception": false,
     "start_time": "2022-01-31T05:17:14.662248",
     "status": "completed"
    },
    "tags": []
   },
   "outputs": [],
   "source": [
    "# Lines below will give you a hint or solution code\n",
    "#q_1.hint()\n",
    "#q_1.solution()"
   ]
  },
  {
   "cell_type": "markdown",
   "id": "f007b98e",
   "metadata": {
    "papermill": {
     "duration": 0.01661,
     "end_time": "2022-01-31T05:17:14.717669",
     "exception": false,
     "start_time": "2022-01-31T05:17:14.701059",
     "status": "completed"
    },
    "tags": []
   },
   "source": [
    "-------------------------------------------------------------------------------\n",
    "\n",
    "If you've discovered an interaction effect between a numeric feature and a categorical feature, you might want to model it explicitly using a one-hot encoding, like so:\n",
    "\n",
    "```\n",
    "# One-hot encode Categorical feature, adding a column prefix \"Cat\"\n",
    "X_new = pd.get_dummies(df.Categorical, prefix=\"Cat\")\n",
    "\n",
    "# Multiply row-by-row\n",
    "X_new = X_new.mul(df.Continuous, axis=0)\n",
    "\n",
    "# Join the new features to the feature set\n",
    "X = X.join(X_new)\n",
    "```\n",
    "\n",
    "# 2) Interaction with a Categorical\n",
    "\n",
    "We discovered an interaction between `BldgType` and `GrLivArea` in Exercise 2. Now create their interaction features."
   ]
  },
  {
   "cell_type": "code",
   "execution_count": 4,
   "id": "225fefc8",
   "metadata": {
    "execution": {
     "iopub.execute_input": "2022-01-31T05:17:14.756598Z",
     "iopub.status.busy": "2022-01-31T05:17:14.755628Z",
     "iopub.status.idle": "2022-01-31T05:17:14.767086Z",
     "shell.execute_reply": "2022-01-31T05:17:14.767680Z",
     "shell.execute_reply.started": "2022-01-31T05:15:00.168716Z"
    },
    "lines_to_next_cell": 0,
    "papermill": {
     "duration": 0.034026,
     "end_time": "2022-01-31T05:17:14.767838",
     "exception": false,
     "start_time": "2022-01-31T05:17:14.733812",
     "status": "completed"
    },
    "tags": []
   },
   "outputs": [
    {
     "data": {
      "application/javascript": [
       "parent.postMessage({\"jupyterEvent\": \"custom.exercise_interaction\", \"data\": {\"outcomeType\": 1, \"valueTowardsCompletion\": 0.2, \"interactionType\": 1, \"questionType\": 2, \"questionId\": \"2_Q2\", \"learnToolsVersion\": \"0.3.4\", \"failureMessage\": \"\", \"exceptionClass\": \"\", \"trace\": \"\"}}, \"*\")"
      ],
      "text/plain": [
       "<IPython.core.display.Javascript object>"
      ]
     },
     "metadata": {},
     "output_type": "display_data"
    },
    {
     "data": {
      "text/markdown": [
       "<span style=\"color:#33cc33\">Correct</span>"
      ],
      "text/plain": [
       "Correct"
      ]
     },
     "metadata": {},
     "output_type": "display_data"
    }
   ],
   "source": [
    "# YOUR CODE HERE\n",
    "# One-hot encode BldgType. Use `prefix=\"Bldg\"` in `get_dummies`\n",
    "X_2 = pd.get_dummies(df.BldgType, prefix=\"Bldg\") \n",
    "# Multiply\n",
    "X_2 = X_2.mul(df.GrLivArea, axis=0)\n",
    "\n",
    "\n",
    "# Check your answer\n",
    "q_2.check()"
   ]
  },
  {
   "cell_type": "code",
   "execution_count": 5,
   "id": "a2118859",
   "metadata": {
    "execution": {
     "iopub.execute_input": "2022-01-31T05:17:14.808573Z",
     "iopub.status.busy": "2022-01-31T05:17:14.807466Z",
     "iopub.status.idle": "2022-01-31T05:17:14.809640Z",
     "shell.execute_reply": "2022-01-31T05:17:14.810180Z",
     "shell.execute_reply.started": "2022-01-31T05:15:05.346960Z"
    },
    "lines_to_next_cell": 0,
    "papermill": {
     "duration": 0.024862,
     "end_time": "2022-01-31T05:17:14.810346",
     "exception": false,
     "start_time": "2022-01-31T05:17:14.785484",
     "status": "completed"
    },
    "tags": []
   },
   "outputs": [],
   "source": [
    "# Lines below will give you a hint or solution code\n",
    "#q_2.hint()\n",
    "#q_2.solution()"
   ]
  },
  {
   "cell_type": "markdown",
   "id": "3a09c495",
   "metadata": {
    "lines_to_next_cell": 0,
    "papermill": {
     "duration": 0.018272,
     "end_time": "2022-01-31T05:17:14.846683",
     "exception": false,
     "start_time": "2022-01-31T05:17:14.828411",
     "status": "completed"
    },
    "tags": []
   },
   "source": [
    "# 3) Count Feature\n",
    "\n",
    "Let's try creating a feature that describes how many kinds of outdoor areas a dwelling has. Create a feature `PorchTypes` that counts how many of the following are greater than 0.0:\n",
    "\n",
    "```\n",
    "WoodDeckSF\n",
    "OpenPorchSF\n",
    "EnclosedPorch\n",
    "Threeseasonporch\n",
    "ScreenPorch\n",
    "```"
   ]
  },
  {
   "cell_type": "code",
   "execution_count": 6,
   "id": "1aae6c4f",
   "metadata": {
    "execution": {
     "iopub.execute_input": "2022-01-31T05:17:14.887196Z",
     "iopub.status.busy": "2022-01-31T05:17:14.886185Z",
     "iopub.status.idle": "2022-01-31T05:17:14.902731Z",
     "shell.execute_reply": "2022-01-31T05:17:14.903366Z",
     "shell.execute_reply.started": "2022-01-31T05:15:27.333498Z"
    },
    "lines_to_next_cell": 0,
    "papermill": {
     "duration": 0.038602,
     "end_time": "2022-01-31T05:17:14.903543",
     "exception": false,
     "start_time": "2022-01-31T05:17:14.864941",
     "status": "completed"
    },
    "tags": []
   },
   "outputs": [
    {
     "data": {
      "application/javascript": [
       "parent.postMessage({\"jupyterEvent\": \"custom.exercise_interaction\", \"data\": {\"outcomeType\": 1, \"valueTowardsCompletion\": 0.2, \"interactionType\": 1, \"questionType\": 2, \"questionId\": \"3_Q3\", \"learnToolsVersion\": \"0.3.4\", \"failureMessage\": \"\", \"exceptionClass\": \"\", \"trace\": \"\"}}, \"*\")"
      ],
      "text/plain": [
       "<IPython.core.display.Javascript object>"
      ]
     },
     "metadata": {},
     "output_type": "display_data"
    },
    {
     "data": {
      "text/markdown": [
       "<span style=\"color:#33cc33\">Correct</span>"
      ],
      "text/plain": [
       "Correct"
      ]
     },
     "metadata": {},
     "output_type": "display_data"
    }
   ],
   "source": [
    "X_3 = pd.DataFrame()\n",
    "\n",
    "# YOUR CODE HERE\n",
    "X_3[\"PorchTypes\"] = df[[\n",
    "    \"WoodDeckSF\",\n",
    "    \"OpenPorchSF\",\n",
    "    \"EnclosedPorch\",\n",
    "    \"Threeseasonporch\",\n",
    "    \"ScreenPorch\",\n",
    "]].gt(0.0).sum(axis=1)\n",
    "\n",
    "\n",
    "# Check your answer\n",
    "q_3.check()"
   ]
  },
  {
   "cell_type": "code",
   "execution_count": 7,
   "id": "078e6bd7",
   "metadata": {
    "execution": {
     "iopub.execute_input": "2022-01-31T05:17:14.945457Z",
     "iopub.status.busy": "2022-01-31T05:17:14.944513Z",
     "iopub.status.idle": "2022-01-31T05:17:14.947664Z",
     "shell.execute_reply": "2022-01-31T05:17:14.948271Z",
     "shell.execute_reply.started": "2022-01-31T05:15:32.720501Z"
    },
    "lines_to_next_cell": 0,
    "papermill": {
     "duration": 0.025993,
     "end_time": "2022-01-31T05:17:14.948419",
     "exception": false,
     "start_time": "2022-01-31T05:17:14.922426",
     "status": "completed"
    },
    "tags": []
   },
   "outputs": [],
   "source": [
    "# Lines below will give you a hint or solution code\n",
    "#q_3.hint()\n",
    "#q_3.solution()"
   ]
  },
  {
   "cell_type": "markdown",
   "id": "fd36a52c",
   "metadata": {
    "papermill": {
     "duration": 0.01888,
     "end_time": "2022-01-31T05:17:14.986010",
     "exception": false,
     "start_time": "2022-01-31T05:17:14.967130",
     "status": "completed"
    },
    "tags": []
   },
   "source": [
    "# 4) Break Down a Categorical Feature\n",
    "\n",
    "`MSSubClass` describes the type of a dwelling:"
   ]
  },
  {
   "cell_type": "code",
   "execution_count": 8,
   "id": "89260cde",
   "metadata": {
    "execution": {
     "iopub.execute_input": "2022-01-31T05:17:15.027548Z",
     "iopub.status.busy": "2022-01-31T05:17:15.026567Z",
     "iopub.status.idle": "2022-01-31T05:17:15.032708Z",
     "shell.execute_reply": "2022-01-31T05:17:15.033346Z",
     "shell.execute_reply.started": "2022-01-31T05:15:36.382025Z"
    },
    "papermill": {
     "duration": 0.028517,
     "end_time": "2022-01-31T05:17:15.033519",
     "exception": false,
     "start_time": "2022-01-31T05:17:15.005002",
     "status": "completed"
    },
    "tags": []
   },
   "outputs": [
    {
     "data": {
      "text/plain": [
       "array(['One_Story_1946_and_Newer_All_Styles', 'Two_Story_1946_and_Newer',\n",
       "       'One_Story_PUD_1946_and_Newer',\n",
       "       'One_and_Half_Story_Finished_All_Ages', 'Split_Foyer',\n",
       "       'Two_Story_PUD_1946_and_Newer', 'Split_or_Multilevel',\n",
       "       'One_Story_1945_and_Older', 'Duplex_All_Styles_and_Ages',\n",
       "       'Two_Family_conversion_All_Styles_and_Ages',\n",
       "       'One_and_Half_Story_Unfinished_All_Ages',\n",
       "       'Two_Story_1945_and_Older', 'Two_and_Half_Story_All_Ages',\n",
       "       'One_Story_with_Finished_Attic_All_Ages',\n",
       "       'PUD_Multilevel_Split_Level_Foyer',\n",
       "       'One_and_Half_Story_PUD_All_Ages'], dtype=object)"
      ]
     },
     "execution_count": 8,
     "metadata": {},
     "output_type": "execute_result"
    }
   ],
   "source": [
    "df.MSSubClass.unique()"
   ]
  },
  {
   "cell_type": "markdown",
   "id": "922f52bf",
   "metadata": {
    "papermill": {
     "duration": 0.019242,
     "end_time": "2022-01-31T05:17:15.071889",
     "exception": false,
     "start_time": "2022-01-31T05:17:15.052647",
     "status": "completed"
    },
    "tags": []
   },
   "source": [
    "You can see that there is a more general categorization described (roughly) by the first word of each category. Create a feature containing only these first words by splitting `MSSubClass` at the first underscore `_`. (Hint: In the `split` method use an argument `n=1`.)"
   ]
  },
  {
   "cell_type": "code",
   "execution_count": 9,
   "id": "f3572b1a",
   "metadata": {
    "execution": {
     "iopub.execute_input": "2022-01-31T05:17:15.114333Z",
     "iopub.status.busy": "2022-01-31T05:17:15.113350Z",
     "iopub.status.idle": "2022-01-31T05:17:15.137206Z",
     "shell.execute_reply": "2022-01-31T05:17:15.137796Z",
     "shell.execute_reply.started": "2022-01-31T05:16:04.011491Z"
    },
    "lines_to_next_cell": 0,
    "papermill": {
     "duration": 0.046717,
     "end_time": "2022-01-31T05:17:15.137957",
     "exception": false,
     "start_time": "2022-01-31T05:17:15.091240",
     "status": "completed"
    },
    "tags": []
   },
   "outputs": [
    {
     "data": {
      "application/javascript": [
       "parent.postMessage({\"jupyterEvent\": \"custom.exercise_interaction\", \"data\": {\"outcomeType\": 1, \"valueTowardsCompletion\": 0.2, \"interactionType\": 1, \"questionType\": 2, \"questionId\": \"4_Q4\", \"learnToolsVersion\": \"0.3.4\", \"failureMessage\": \"\", \"exceptionClass\": \"\", \"trace\": \"\"}}, \"*\")"
      ],
      "text/plain": [
       "<IPython.core.display.Javascript object>"
      ]
     },
     "metadata": {},
     "output_type": "display_data"
    },
    {
     "data": {
      "text/markdown": [
       "<span style=\"color:#33cc33\">Correct</span>"
      ],
      "text/plain": [
       "Correct"
      ]
     },
     "metadata": {},
     "output_type": "display_data"
    }
   ],
   "source": [
    "X_4 = pd.DataFrame()\n",
    "\n",
    "# YOUR CODE HERE\n",
    "X_4[\"MSClass\"] = df.MSSubClass.str.split(\"_\", n=1, expand=True)[0]\n",
    "\n",
    "# Check your answer\n",
    "q_4.check()"
   ]
  },
  {
   "cell_type": "code",
   "execution_count": 10,
   "id": "7e23b6ea",
   "metadata": {
    "execution": {
     "iopub.execute_input": "2022-01-31T05:17:15.181672Z",
     "iopub.status.busy": "2022-01-31T05:17:15.180755Z",
     "iopub.status.idle": "2022-01-31T05:17:15.183870Z",
     "shell.execute_reply": "2022-01-31T05:17:15.184464Z",
     "shell.execute_reply.started": "2022-01-31T05:16:08.304900Z"
    },
    "lines_to_next_cell": 0,
    "papermill": {
     "duration": 0.026611,
     "end_time": "2022-01-31T05:17:15.184620",
     "exception": false,
     "start_time": "2022-01-31T05:17:15.158009",
     "status": "completed"
    },
    "tags": []
   },
   "outputs": [],
   "source": [
    "# Lines below will give you a hint or solution code\n",
    "#q_4.hint()\n",
    "#q_4.solution()"
   ]
  },
  {
   "cell_type": "markdown",
   "id": "eb118d3b",
   "metadata": {
    "papermill": {
     "duration": 0.019834,
     "end_time": "2022-01-31T05:17:15.225695",
     "exception": false,
     "start_time": "2022-01-31T05:17:15.205861",
     "status": "completed"
    },
    "tags": []
   },
   "source": [
    "# 5) Use a Grouped Transform\n",
    "\n",
    "The value of a home often depends on how it compares to typical homes in its neighborhood. Create a feature `MedNhbdArea` that describes the *median* of `GrLivArea` grouped on `Neighborhood`."
   ]
  },
  {
   "cell_type": "code",
   "execution_count": 11,
   "id": "bfd4a7d5",
   "metadata": {
    "execution": {
     "iopub.execute_input": "2022-01-31T05:17:15.269243Z",
     "iopub.status.busy": "2022-01-31T05:17:15.268373Z",
     "iopub.status.idle": "2022-01-31T05:17:15.284397Z",
     "shell.execute_reply": "2022-01-31T05:17:15.284961Z",
     "shell.execute_reply.started": "2022-01-31T05:16:24.900953Z"
    },
    "lines_to_next_cell": 0,
    "papermill": {
     "duration": 0.039254,
     "end_time": "2022-01-31T05:17:15.285130",
     "exception": false,
     "start_time": "2022-01-31T05:17:15.245876",
     "status": "completed"
    },
    "tags": []
   },
   "outputs": [
    {
     "data": {
      "application/javascript": [
       "parent.postMessage({\"jupyterEvent\": \"custom.exercise_interaction\", \"data\": {\"outcomeType\": 1, \"valueTowardsCompletion\": 0.2, \"interactionType\": 1, \"questionType\": 2, \"questionId\": \"5_Q5\", \"learnToolsVersion\": \"0.3.4\", \"failureMessage\": \"\", \"exceptionClass\": \"\", \"trace\": \"\"}}, \"*\")"
      ],
      "text/plain": [
       "<IPython.core.display.Javascript object>"
      ]
     },
     "metadata": {},
     "output_type": "display_data"
    },
    {
     "data": {
      "text/markdown": [
       "<span style=\"color:#33cc33\">Correct</span>"
      ],
      "text/plain": [
       "Correct"
      ]
     },
     "metadata": {},
     "output_type": "display_data"
    }
   ],
   "source": [
    "X_5 = pd.DataFrame()\n",
    "\n",
    "# YOUR CODE HERE\n",
    "X_5[\"MedNhbdArea\"] = df.groupby(\"Neighborhood\")[\"GrLivArea\"].transform(\"median\")\n",
    "\n",
    "# Check your answer\n",
    "q_5.check()"
   ]
  },
  {
   "cell_type": "code",
   "execution_count": 12,
   "id": "627618b6",
   "metadata": {
    "execution": {
     "iopub.execute_input": "2022-01-31T05:17:15.330700Z",
     "iopub.status.busy": "2022-01-31T05:17:15.329702Z",
     "iopub.status.idle": "2022-01-31T05:17:15.332832Z",
     "shell.execute_reply": "2022-01-31T05:17:15.333428Z",
     "shell.execute_reply.started": "2022-01-31T05:16:29.720180Z"
    },
    "lines_to_next_cell": 0,
    "papermill": {
     "duration": 0.027261,
     "end_time": "2022-01-31T05:17:15.333607",
     "exception": false,
     "start_time": "2022-01-31T05:17:15.306346",
     "status": "completed"
    },
    "tags": []
   },
   "outputs": [],
   "source": [
    "# Lines below will give you a hint or solution code\n",
    "#q_5.hint()\n",
    "#q_5.solution()"
   ]
  },
  {
   "cell_type": "markdown",
   "id": "93e1fef3",
   "metadata": {
    "papermill": {
     "duration": 0.020818,
     "end_time": "2022-01-31T05:17:15.375364",
     "exception": false,
     "start_time": "2022-01-31T05:17:15.354546",
     "status": "completed"
    },
    "tags": []
   },
   "source": [
    "Now you've made your first new feature set! If you like, you can run the cell below to score the model with all of your new features added:"
   ]
  },
  {
   "cell_type": "code",
   "execution_count": 13,
   "id": "043cd13c",
   "metadata": {
    "execution": {
     "iopub.execute_input": "2022-01-31T05:17:15.420984Z",
     "iopub.status.busy": "2022-01-31T05:17:15.420079Z",
     "iopub.status.idle": "2022-01-31T05:17:20.923772Z",
     "shell.execute_reply": "2022-01-31T05:17:20.924474Z",
     "shell.execute_reply.started": "2022-01-31T05:16:33.929382Z"
    },
    "papermill": {
     "duration": 5.528337,
     "end_time": "2022-01-31T05:17:20.924688",
     "exception": false,
     "start_time": "2022-01-31T05:17:15.396351",
     "status": "completed"
    },
    "tags": []
   },
   "outputs": [
    {
     "data": {
      "text/plain": [
       "0.13847331710099203"
      ]
     },
     "execution_count": 13,
     "metadata": {},
     "output_type": "execute_result"
    }
   ],
   "source": [
    "X_new = X.join([X_1, X_2, X_3, X_4, X_5])\n",
    "score_dataset(X_new, y)"
   ]
  },
  {
   "cell_type": "markdown",
   "id": "49cd8356",
   "metadata": {
    "papermill": {
     "duration": 0.022035,
     "end_time": "2022-01-31T05:17:20.969742",
     "exception": false,
     "start_time": "2022-01-31T05:17:20.947707",
     "status": "completed"
    },
    "tags": []
   },
   "source": [
    "# Keep Going #\n",
    "\n",
    "[**Untangle spatial relationships**](https://www.kaggle.com/ryanholbrook/clustering-with-k-means) by adding cluster labels to your dataset."
   ]
  }
 ],
 "metadata": {
  "kernelspec": {
   "display_name": "Python 3",
   "language": "python",
   "name": "python3"
  },
  "language_info": {
   "codemirror_mode": {
    "name": "ipython",
    "version": 3
   },
   "file_extension": ".py",
   "mimetype": "text/x-python",
   "name": "python",
   "nbconvert_exporter": "python",
   "pygments_lexer": "ipython3",
   "version": "3.7.12"
  },
  "papermill": {
   "default_parameters": {},
   "duration": 17.556906,
   "end_time": "2022-01-31T05:17:21.600590",
   "environment_variables": {},
   "exception": null,
   "input_path": "__notebook__.ipynb",
   "output_path": "__notebook__.ipynb",
   "parameters": {},
   "start_time": "2022-01-31T05:17:04.043684",
   "version": "2.3.3"
  }
 },
 "nbformat": 4,
 "nbformat_minor": 5
}
